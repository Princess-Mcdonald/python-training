{
 "cells": [
  {
   "cell_type": "code",
   "execution_count": 3,
   "metadata": {},
   "outputs": [
    {
     "name": "stdout",
     "output_type": "stream",
     "text": [
      "Enter a number for x1  9\n",
      "\n",
      "Enter a number for x2  6\n",
      "\n",
      "Enter a number for y1  5\n",
      "\n",
      "Enter a number for y2  4\n",
      "\n",
      "\n",
      "  The distance of the two points =   3.1622776601683795\n"
     ]
    }
   ],
   "source": [
    "\"     This is a program to calculate the distance of two points    \"\n",
    "x1=float(input(\"Enter a number for x1  \"))\n",
    "print()\n",
    "x2=float(input(\"Enter a number for x2  \"))\n",
    "print()\n",
    "y1=float(input(\"Enter a number for y1  \"))\n",
    "print()\n",
    "y2=float(input(\"Enter a number for y2  \"))\n",
    "print()\n",
    "print()\n",
    "d=(((x1-x2)**2) + ((y2-y1)**2))**(1/2)\n",
    "print(\"  The distance of the two points =  \" ,d)\n",
    "\n"
   ]
  },
  {
   "cell_type": "code",
   "execution_count": null,
   "metadata": {},
   "outputs": [],
   "source": []
  },
  {
   "cell_type": "code",
   "execution_count": null,
   "metadata": {},
   "outputs": [],
   "source": []
  }
 ],
 "metadata": {
  "kernelspec": {
   "display_name": "Python 3",
   "language": "python",
   "name": "python3"
  },
  "language_info": {
   "codemirror_mode": {
    "name": "ipython",
    "version": 3
   },
   "file_extension": ".py",
   "mimetype": "text/x-python",
   "name": "python",
   "nbconvert_exporter": "python",
   "pygments_lexer": "ipython3",
   "version": "3.7.3"
  }
 },
 "nbformat": 4,
 "nbformat_minor": 2
}
